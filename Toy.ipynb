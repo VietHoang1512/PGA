{
  "nbformat": 4,
  "nbformat_minor": 0,
  "metadata": {
    "colab": {
      "provenance": [],
      "gpuType": "T4"
    },
    "kernelspec": {
      "name": "python3",
      "display_name": "Python 3"
    },
    "language_info": {
      "name": "python"
    },
    "accelerator": "GPU"
  },
  "cells": [
    {
      "cell_type": "code",
      "source": [
        "! nvidia-smi"
      ],
      "metadata": {
        "colab": {
          "base_uri": "https://localhost:8080/"
        },
        "id": "7gLj1EHB7f4r",
        "outputId": "5d367a7f-2817-483a-ab2b-f6fc1238dfbc"
      },
      "execution_count": null,
      "outputs": [
        {
          "output_type": "stream",
          "name": "stdout",
          "text": [
            "Thu Jun 13 03:28:50 2024       \n",
            "+---------------------------------------------------------------------------------------+\n",
            "| NVIDIA-SMI 535.104.05             Driver Version: 535.104.05   CUDA Version: 12.2     |\n",
            "|-----------------------------------------+----------------------+----------------------+\n",
            "| GPU  Name                 Persistence-M | Bus-Id        Disp.A | Volatile Uncorr. ECC |\n",
            "| Fan  Temp   Perf          Pwr:Usage/Cap |         Memory-Usage | GPU-Util  Compute M. |\n",
            "|                                         |                      |               MIG M. |\n",
            "|=========================================+======================+======================|\n",
            "|   0  Tesla T4                       Off | 00000000:00:04.0 Off |                    0 |\n",
            "| N/A   65C    P8              11W /  70W |      0MiB / 15360MiB |      0%      Default |\n",
            "|                                         |                      |                  N/A |\n",
            "+-----------------------------------------+----------------------+----------------------+\n",
            "                                                                                         \n",
            "+---------------------------------------------------------------------------------------+\n",
            "| Processes:                                                                            |\n",
            "|  GPU   GI   CI        PID   Type   Process name                            GPU Memory |\n",
            "|        ID   ID                                                             Usage      |\n",
            "|=======================================================================================|\n",
            "|  No running processes found                                                           |\n",
            "+---------------------------------------------------------------------------------------+\n"
          ]
        }
      ]
    },
    {
      "cell_type": "code",
      "source": [
        "import random\n",
        "import numpy as np\n",
        "\n",
        "import torch\n",
        "import torch.nn as nn\n",
        "import torch.nn.functional as F\n",
        "import torch.optim as optim\n",
        "\n",
        "device = torch.device(\"cuda\" if torch.cuda.is_available() else \"cpu\")\n",
        "print(device)\n",
        "\n",
        "# Parameters\n",
        "d = 300  # Dimension of x\n",
        "B = 10  # Scalar constant B\n",
        "n_samples_train = 50000  # Number of training samples\n",
        "n_samples_test = 50000  # Number of testing samples\n",
        "rho_train = 0.9  # Probability scalar for training\n",
        "rho_test = 0.1  # Probability scalar for testing\n",
        "epochs = 100  # Number of epochs\n",
        "learning_rate = 0.01  # Learning rate\n",
        "\n",
        "def generate_data(n_samples, d, B, rho, device=\"cpu\"):\n",
        "    y = torch.randint(0, 2, (n_samples,)) * 2 - 1\n",
        "    z = torch.where(torch.rand(n_samples) < rho, y, -y)\n",
        "    delta = torch.randn(n_samples, d - 2)\n",
        "    z_scaled = B * z\n",
        "    x = torch.cat([z_scaled.view(-1, 1), y.view(-1, 1), delta], dim=1)\n",
        "    return x.to(device), y.to(device), z.to(device)\n",
        "\n",
        "class LinearModel(nn.Module):\n",
        "    def __init__(self, input_dim):\n",
        "        super(LinearModel, self).__init__()\n",
        "\n",
        "        self.output = nn.Linear(input_dim, 1)\n",
        "\n",
        "    def forward(self, x):\n",
        "        x = self.output(x)\n",
        "        return x\n",
        "\n",
        "\n",
        "# Define the logistic loss function\n",
        "def logistic_loss(y, y_pred):\n",
        "    return torch.log(1 + torch.exp(-y * y_pred)).mean()"
      ],
      "metadata": {
        "id": "4OWfaV3q_LZ4",
        "colab": {
          "base_uri": "https://localhost:8080/"
        },
        "outputId": "1ae56273-645d-4dca-b075-38dc08ed0c29"
      },
      "execution_count": null,
      "outputs": [
        {
          "output_type": "stream",
          "name": "stdout",
          "text": [
            "cuda\n"
          ]
        }
      ]
    },
    {
      "cell_type": "code",
      "source": [
        "def get_grad(model, zero_grad=True):\n",
        "    grad = []\n",
        "    for n, p  in model.named_parameters():\n",
        "        grad.append(p.grad.data.clone().flatten())\n",
        "        if zero_grad:\n",
        "            p.grad.zero_()\n",
        "    return torch.cat(grad)\n",
        "\n",
        "def set_grad(model, grad):\n",
        "    total_length = 0\n",
        "    for name, param in model.named_parameters():\n",
        "        length = param.numel()\n",
        "        param.grad.data = grad[\n",
        "            total_length : total_length + length\n",
        "        ].reshape(param.shape)\n",
        "        total_length += length\n",
        "    assert total_length == len(grad)\n",
        "def get_param(model):\n",
        "    param = []\n",
        "    for n, p  in model.named_parameters():\n",
        "        param.append(p.data.clone().flatten())\n",
        "    return torch.cat(param)\n",
        "def set_param(model, param):\n",
        "    total_length = 0\n",
        "    for n, p in model.named_parameters():\n",
        "        length = p.numel()\n",
        "        p.data = param[ total_length : total_length + length].data.reshape(p.shape)\n",
        "        total_length += length\n",
        "    assert total_length == len(param), f\"{total_length}!={len(param)}\""
      ],
      "metadata": {
        "id": "RPkLo2PVIH3m"
      },
      "execution_count": null,
      "outputs": []
    },
    {
      "cell_type": "code",
      "source": [
        "def run_erm(gradnorm, seed=0):\n",
        "    random.seed(seed)\n",
        "    np.random.seed(seed)\n",
        "    torch.manual_seed(seed)\n",
        "    torch.cuda.manual_seed(seed)\n",
        "    torch.cuda.manual_seed_all(seed)\n",
        "    torch.backends.cudnn.benchmark = True\n",
        "    model = LinearModel(d)\n",
        "    model = model.to(device)\n",
        "\n",
        "    x_train, y_train, z_train = generate_data(n_samples_train, d, B, rho_train, device)\n",
        "    x_val, y_val, z_val = x_train, y_train, z_train\n",
        "    x_test, y_test, z_test = generate_data(n_samples_test, d, B, rho_test, device)\n",
        "\n",
        "    # Define optimizer\n",
        "    optimizer = optim.Adam(model.parameters(), lr=learning_rate)\n",
        "    val_losses = []\n",
        "    test_losses = []\n",
        "    val_accuracies = []\n",
        "    test_accuracies = []\n",
        "    # Training loop\n",
        "    for epoch in range(epochs):\n",
        "        model.train()\n",
        "        optimizer.zero_grad()\n",
        "\n",
        "        param = get_param(model)\n",
        "\n",
        "\n",
        "        y_pred = model(x_train).squeeze()\n",
        "        loss = logistic_loss(y_train, y_pred)\n",
        "        loss.backward()\n",
        "        grad = get_grad(model)\n",
        "        new_param = param + gradnorm * grad/(torch.norm(grad) + 1e-12)\n",
        "\n",
        "        set_param(model, new_param)\n",
        "        y_pred = model(x_train).squeeze()\n",
        "        loss = logistic_loss(y_train, y_pred)\n",
        "        loss.backward()\n",
        "        set_param(model, param)\n",
        "        optimizer.step()\n",
        "\n",
        "\n",
        "        model.eval()\n",
        "        with torch.no_grad():\n",
        "            y_pred_val = model(x_val).squeeze()\n",
        "            val_loss = logistic_loss(y_val, y_pred_val)\n",
        "            y_pred_val_labels = torch.sign(y_pred_val)\n",
        "            val_acc = (y_pred_val_labels == y_val).float().mean()\n",
        "\n",
        "            y_pred_test = model(x_test).squeeze()\n",
        "            test_loss = logistic_loss(y_test, y_pred_test)\n",
        "            y_pred_test_labels = torch.sign(y_pred_test)\n",
        "            test_acc = (y_pred_test_labels == y_test).float().mean()\n",
        "\n",
        "            val_losses.append(val_loss.item())\n",
        "            test_losses.append(test_loss.item())\n",
        "            val_accuracies.append(val_acc.item())\n",
        "            test_accuracies.append(test_acc.item())\n",
        "\n",
        "    return {\n",
        "        \"val_losses\": val_losses,\n",
        "        \"test_losses\": test_losses,\n",
        "        \"val_accuracies\": val_accuracies,\n",
        "        \"test_accuracies\": test_accuracies\n",
        "    }\n",
        "\n"
      ],
      "metadata": {
        "id": "1KxjFTLLcwo4"
      },
      "execution_count": null,
      "outputs": []
    },
    {
      "cell_type": "code",
      "source": [
        "def run(gradnorm, align, seed=0):\n",
        "    random.seed(seed)\n",
        "    np.random.seed(seed)\n",
        "    torch.manual_seed(seed)\n",
        "    torch.cuda.manual_seed(seed)\n",
        "    torch.cuda.manual_seed_all(seed)\n",
        "    torch.backends.cudnn.benchmark = True\n",
        "    model = LinearModel(d)\n",
        "    model = model.to(device)\n",
        "\n",
        "    x_train, y_train, z_train = generate_data(n_samples_train, d, B, rho_train, device)\n",
        "    x_val, y_val, z_val = x_train, y_train, z_train\n",
        "    x_test, y_test, z_test = generate_data(n_samples_test, d, B, rho_test, device)\n",
        "\n",
        "    # Define optimizer\n",
        "    optimizer = optim.Adam(model.parameters(), lr=learning_rate)\n",
        "\n",
        "    x1 = x_train[z_train == 1]\n",
        "    x2 = x_train[z_train == -1]\n",
        "    y1 = y_train[z_train == 1]\n",
        "    y2 = y_train[z_train == -1]\n",
        "\n",
        "    val_losses = []\n",
        "    test_losses = []\n",
        "    val_accuracies = []\n",
        "    test_accuracies = []\n",
        "\n",
        "\n",
        "    # Training loop\n",
        "    for epoch in range(epochs):\n",
        "        model.train()\n",
        "        optimizer.zero_grad()\n",
        "\n",
        "        param = get_param(model)\n",
        "\n",
        "        y_pred1 = model(x1).squeeze()\n",
        "        loss = logistic_loss(y1, y_pred1)\n",
        "        loss.backward()\n",
        "        grad1 = get_grad(model)\n",
        "\n",
        "        y_pred2 = model(x2).squeeze()\n",
        "        loss = logistic_loss(y2, y_pred2)\n",
        "        loss.backward()\n",
        "        grad2 = get_grad(model)\n",
        "\n",
        "        param1 = param + gradnorm * grad1/(torch.norm(grad1) + 1e-12) - align * grad2/(torch.norm(grad2)*torch.norm(grad1) + 1e-12)\n",
        "        set_param(model, param1)\n",
        "\n",
        "        y_pred1 = model(x1).squeeze()\n",
        "        loss = logistic_loss(y1, y_pred1)\n",
        "        loss.backward()\n",
        "        new_grad1 = get_grad(model)\n",
        "\n",
        "\n",
        "        param2 = param + gradnorm * grad2/(torch.norm(grad2) + 1e-12) - align * grad1/(torch.norm(grad2)*torch.norm(grad1) + 1e-12)\n",
        "        set_param(model, param2)\n",
        "\n",
        "        y_pred2 = model(x2).squeeze()\n",
        "        loss = logistic_loss(y2, y_pred2)\n",
        "        loss.backward()\n",
        "        new_grad2 = get_grad(model)\n",
        "\n",
        "        set_grad(model, new_grad1 + new_grad2)\n",
        "        optimizer.step()\n",
        "\n",
        "\n",
        "        model.eval()\n",
        "        with torch.no_grad():\n",
        "            y_pred_val = model(x_val).squeeze()\n",
        "            val_loss = logistic_loss(y_val, y_pred_val)\n",
        "            y_pred_val_labels = torch.sign(y_pred_val)\n",
        "            val_acc = (y_pred_val_labels == y_val).float().mean()\n",
        "\n",
        "            y_pred_test = model(x_test).squeeze()\n",
        "            test_loss = logistic_loss(y_test, y_pred_test)\n",
        "            y_pred_test_labels = torch.sign(y_pred_test)\n",
        "            test_acc = (y_pred_test_labels == y_test).float().mean()\n",
        "\n",
        "            val_losses.append(val_loss.item())\n",
        "            test_losses.append(test_loss.item())\n",
        "            val_accuracies.append(val_acc.item())\n",
        "            test_accuracies.append(test_acc.item())\n",
        "\n",
        "    return {\n",
        "        \"val_losses\": val_losses,\n",
        "        \"test_losses\": test_losses,\n",
        "        \"val_accuracies\": val_accuracies,\n",
        "        \"test_accuracies\": test_accuracies\n",
        "    }\n"
      ],
      "metadata": {
        "id": "xcOLYNWxXl_5"
      },
      "execution_count": null,
      "outputs": []
    },
    {
      "cell_type": "code",
      "source": [
        "import matplotlib.pyplot as plt\n",
        "\n",
        "def plot(metrics):\n",
        "    epochs = list(range(1, 101))  # Assuming 100 epochs\n",
        "\n",
        "    # Plot validation and test losses\n",
        "    plt.figure(figsize=(12, 4))\n",
        "\n",
        "    plt.subplot(1, 2, 1)\n",
        "    plt.errorbar(epochs, metrics['val_losses_mean'], yerr=metrics['val_losses_std'], label='Validation Loss', fmt='-o', capsize=5)\n",
        "    plt.errorbar(epochs, metrics['test_losses_mean'], yerr=metrics['test_losses_std'], label='Test Loss', fmt='-o', capsize=5)\n",
        "    plt.xlabel('Epochs')\n",
        "    plt.ylabel('Loss')\n",
        "    plt.title('Validation and Test Loss')\n",
        "    plt.legend()\n",
        "    plt.grid(True)\n",
        "\n",
        "    # Plot validation and test accuracies\n",
        "    plt.subplot(1, 2, 2)\n",
        "    plt.errorbar(epochs, metrics['val_accuracies_mean'], yerr=metrics['val_accuracies_std'], label='Validation Accuracy', fmt='-o', capsize=5)\n",
        "    plt.errorbar(epochs, metrics['test_accuracies_mean'], yerr=metrics['test_accuracies_std'], label='Test Accuracy', fmt='-o', capsize=5)\n",
        "    plt.xlabel('Epochs')\n",
        "    plt.ylabel('Accuracy')\n",
        "    plt.title('Validation and Test Accuracy')\n",
        "    plt.legend()\n",
        "    plt.grid(True)\n",
        "\n",
        "    plt.tight_layout()\n",
        "    plt.show()"
      ],
      "metadata": {
        "id": "4EPRY8Jpk2nM"
      },
      "execution_count": null,
      "outputs": []
    },
    {
      "cell_type": "code",
      "source": [
        "n_seeds = 10\n",
        "metrics = []\n",
        "\n",
        "for seed in range(1, 1+ n_seeds):\n",
        "    metrics.append(run_erm(.0, seed))\n",
        "erm_result = dict()\n",
        "for k, v in metrics[0].items():\n",
        "    erm_result[k+'_mean'] = np.mean(np.stack([metric[k] for metric in metrics]), axis=0)\n",
        "    erm_result[k+'_std'] = np.std(np.stack([metric[k] for metric in metrics]), axis=0)/np.sqrt(n_seeds)\n",
        "plot(erm_result)"
      ],
      "metadata": {
        "id": "IzUn-mMJiJ3t"
      },
      "execution_count": null,
      "outputs": []
    },
    {
      "cell_type": "code",
      "source": [
        "n_seeds = 10\n",
        "metrics = []\n",
        "\n",
        "for seed in range(1, 1+ n_seeds):\n",
        "    metrics.append(run_erm(.01, seed))\n",
        "gradnorm_result = dict()\n",
        "for k, v in metrics[0].items():\n",
        "    gradnorm_result[k+'_mean'] = np.mean(np.stack([metric[k] for metric in metrics]), axis=0)\n",
        "    gradnorm_result[k+'_std'] = np.std(np.stack([metric[k] for metric in metrics]), axis=0)/np.sqrt(n_seeds)\n",
        "plot(gradnorm_result)"
      ],
      "metadata": {
        "id": "iB8z4R7lYW_K"
      },
      "execution_count": null,
      "outputs": []
    },
    {
      "cell_type": "code",
      "source": [
        "n_seeds = 10\n",
        "metrics = []\n",
        "\n",
        "for seed in range(1, 1+ n_seeds):\n",
        "    metrics.append(run(0.0, 0.01, seed))\n",
        "align_result = dict()\n",
        "for k, v in metrics[0].items():\n",
        "    align_result[k+'_mean'] = np.mean(np.stack([metric[k] for metric in metrics]), axis=0)\n",
        "    align_result[k+'_std'] = np.std(np.stack([metric[k] for metric in metrics]), axis=0)/np.sqrt(n_seeds)\n",
        "plot(align_result)"
      ],
      "metadata": {
        "id": "8j5WiUXgYx_y"
      },
      "execution_count": null,
      "outputs": []
    },
    {
      "cell_type": "code",
      "source": [
        "n_seeds = 10\n",
        "metrics = []\n",
        "\n",
        "for seed in range(1, 1+ n_seeds):\n",
        "    metrics.append(run(0.005, 0.01, seed))\n",
        "our_result = dict()\n",
        "for k, v in metrics[0].items():\n",
        "    our_result[k+'_mean'] = np.mean(np.stack([metric[k] for metric in metrics]), axis=0)\n",
        "    our_result[k+'_std'] = np.std(np.stack([metric[k] for metric in metrics]), axis=0)/np.sqrt(n_seeds)\n",
        "plot(our_result)"
      ],
      "metadata": {
        "id": "-OrMpEIMYu8B"
      },
      "execution_count": null,
      "outputs": []
    },
    {
      "cell_type": "code",
      "source": [
        "import matplotlib.pyplot as plt\n",
        "import numpy as np\n",
        "\n",
        "# Example dictionaries with keys containing lists of 100 numbers\n",
        "metrics_1 = erm_result\n",
        "metrics_2 = our_result\n",
        "\n",
        "epochs = list(range(1, 101))  # Assuming 100 epochs\n",
        "\n",
        "# Plot validation and test accuracies for both results\n",
        "plt.figure(figsize=(8, 4))\n",
        "\n",
        "# Plot accuracies for the first set of metrics\n",
        "plt.plot(epochs, 100*metrics_1['val_accuracies_mean'], label='In-distribution (ERM)', linestyle='--', color=\"blue\")\n",
        "plt.plot(epochs, 100*metrics_1['test_accuracies_mean'], label='Out-of-distribution (ERM)', linestyle='-', color=\"blue\")\n",
        "\n",
        "# Plot accuracies for the second set of metrics\n",
        "plt.plot(epochs, 100*metrics_2['val_accuracies_mean'], label='In-distributionn (Ours)', linestyle='--', color=\"green\")\n",
        "plt.plot(epochs, 100*metrics_2['test_accuracies_mean'], label='Out-of-distribution (Ours)', linestyle='-', color=\"green\")\n",
        "\n",
        "plt.xlabel('Epochs')\n",
        "plt.ylabel('Accuracy')\n",
        "plt.legend()\n",
        "plt.grid(False)\n",
        "\n",
        "plt.tight_layout()\n",
        "plt.show()"
      ],
      "metadata": {
        "id": "kQEG_KCml1jN"
      },
      "execution_count": null,
      "outputs": []
    },
    {
      "cell_type": "code",
      "source": [
        "! pip install SciencePlots"
      ],
      "metadata": {
        "colab": {
          "base_uri": "https://localhost:8080/"
        },
        "id": "U_oLO0MmrXrL",
        "outputId": "fc75c6b7-812f-4873-9294-e97a8fb26fdd"
      },
      "execution_count": null,
      "outputs": [
        {
          "output_type": "stream",
          "name": "stdout",
          "text": [
            "Collecting SciencePlots\n",
            "  Downloading SciencePlots-2.1.1-py3-none-any.whl (16 kB)\n",
            "Requirement already satisfied: matplotlib in /usr/local/lib/python3.10/dist-packages (from SciencePlots) (3.7.1)\n",
            "Requirement already satisfied: contourpy>=1.0.1 in /usr/local/lib/python3.10/dist-packages (from matplotlib->SciencePlots) (1.2.1)\n",
            "Requirement already satisfied: cycler>=0.10 in /usr/local/lib/python3.10/dist-packages (from matplotlib->SciencePlots) (0.12.1)\n",
            "Requirement already satisfied: fonttools>=4.22.0 in /usr/local/lib/python3.10/dist-packages (from matplotlib->SciencePlots) (4.53.0)\n",
            "Requirement already satisfied: kiwisolver>=1.0.1 in /usr/local/lib/python3.10/dist-packages (from matplotlib->SciencePlots) (1.4.5)\n",
            "Requirement already satisfied: numpy>=1.20 in /usr/local/lib/python3.10/dist-packages (from matplotlib->SciencePlots) (1.25.2)\n",
            "Requirement already satisfied: packaging>=20.0 in /usr/local/lib/python3.10/dist-packages (from matplotlib->SciencePlots) (24.1)\n",
            "Requirement already satisfied: pillow>=6.2.0 in /usr/local/lib/python3.10/dist-packages (from matplotlib->SciencePlots) (9.4.0)\n",
            "Requirement already satisfied: pyparsing>=2.3.1 in /usr/local/lib/python3.10/dist-packages (from matplotlib->SciencePlots) (3.1.2)\n",
            "Requirement already satisfied: python-dateutil>=2.7 in /usr/local/lib/python3.10/dist-packages (from matplotlib->SciencePlots) (2.8.2)\n",
            "Requirement already satisfied: six>=1.5 in /usr/local/lib/python3.10/dist-packages (from python-dateutil>=2.7->matplotlib->SciencePlots) (1.16.0)\n",
            "Installing collected packages: SciencePlots\n",
            "Successfully installed SciencePlots-2.1.1\n"
          ]
        }
      ]
    },
    {
      "cell_type": "code",
      "source": [
        "import scienceplots"
      ],
      "metadata": {
        "id": "oqopvVdFrcYC"
      },
      "execution_count": null,
      "outputs": []
    },
    {
      "cell_type": "code",
      "source": [
        "with plt.style.context(['science', 'no-latex']):\n",
        "\n",
        "    # Create subplots\n",
        "    fig, (ax1, ax2) = plt.subplots(1, 2, figsize=(8, 3))\n",
        "\n",
        "    metrics_1 = erm_result\n",
        "    metrics_2 = align_result\n",
        "    metrics_3 = our_result\n",
        "    # Plot validation accuracies for both models\n",
        "    line1=ax1.plot(epochs,100*metrics_1['val_accuracies_mean'], label='ERM', color=\"red\",linewidth=2.0)\n",
        "    line2=ax1.plot(epochs, 100*metrics_2['val_accuracies_mean'], label='Alignment only', color=\"blue\",linewidth=2.0)\n",
        "    line3=ax1.plot(epochs, 100*metrics_3['val_accuracies_mean'], label='PGA', color=\"green\",linewidth=2.0)\n",
        "\n",
        "    # Plot validation accuracies for both models\n",
        "    ax1.fill_between(epochs, 100*(np.array(metrics_1['val_accuracies_mean']) - np.array(metrics_1['val_accuracies_std'])),\n",
        "                    100*(np.array(metrics_1['val_accuracies_mean']) + np.array(metrics_1['val_accuracies_std'])), alpha=0.2, color=\"red\")\n",
        "\n",
        "    ax1.fill_between(epochs, 100*(np.array(metrics_2['val_accuracies_mean']) - np.array(metrics_2['val_accuracies_std'])),\n",
        "                    100*(np.array(metrics_2['val_accuracies_mean']) + np.array(metrics_2['val_accuracies_std'])), alpha=0.2, color=\"blue\")\n",
        "\n",
        "    ax1.fill_between(epochs, 100*(np.array(metrics_3['val_accuracies_mean']) - np.array(metrics_3['val_accuracies_std'])),\n",
        "                    100*(np.array(metrics_3['val_accuracies_mean']) + np.array(metrics_3['val_accuracies_std'])), alpha=0.2, color=\"green\")\n",
        "\n",
        "\n",
        "    ax1.set_xlabel('Epochs')\n",
        "    ax1.set_xlabel('Epochs')\n",
        "    ax1.set_ylabel('Accuracy')\n",
        "    ax1.set_title('In-domain performance')\n",
        "    ax1.grid()\n",
        "    ax1.set_yticks(np.arange(0, 110, 10))\n",
        "\n",
        "    # Plot test accuracies for both models\n",
        "    ax2.plot(epochs, 100*metrics_1['test_accuracies_mean'], color=\"red\",linewidth=2.0)\n",
        "    ax2.plot(epochs, 100*metrics_2['test_accuracies_mean'], color=\"blue\",linewidth=2.0)\n",
        "    ax2.plot(epochs, 100*metrics_3['test_accuracies_mean'], color=\"green\",linewidth=2.0)\n",
        "    ax2.fill_between(epochs, 100*(np.array(metrics_1['test_accuracies_mean']) - np.array(metrics_1['test_accuracies_std'])),\n",
        "                    100*(np.array(metrics_1['test_accuracies_mean']) + np.array(metrics_1['test_accuracies_std'])), alpha=0.2, color=\"red\")\n",
        "\n",
        "    ax2.fill_between(epochs, 100*(np.array(metrics_2['test_accuracies_mean']) - np.array(metrics_2['test_accuracies_std'])),\n",
        "                    100*(np.array(metrics_2['test_accuracies_mean']) + np.array(metrics_2['test_accuracies_std'])), alpha=0.2, color=\"blue\")\n",
        "    ax2.fill_between(epochs, 100*(np.array(metrics_3['test_accuracies_mean']) - np.array(metrics_3['test_accuracies_std'])),\n",
        "                    100*(np.array(metrics_3['test_accuracies_mean']) + np.array(metrics_3['test_accuracies_std'])), alpha=0.2, color=\"green\")\n",
        "    ax2.set_xlabel('Epochs')\n",
        "\n",
        "    ax2.set_xlabel('Epochs')\n",
        "    ax2.set_title('Out-of-domain performance')\n",
        "    ax2.grid()\n",
        "    ax2.set_yticks(np.arange(0, 110, 10))\n",
        "    lines, labels = [], []\n",
        "\n",
        "    line, label = ax1.get_legend_handles_labels()\n",
        "    lines.extend(line)\n",
        "    labels.extend(label)\n",
        "\n",
        "\n",
        "    fig.legend(lines, labels, loc='upper center', ncol=3)\n",
        "\n",
        "    plt.tight_layout()\n",
        "    plt.subplots_adjust(top=.8)\n",
        "    plt.savefig(\"toy.pdf\")\n",
        "    plt.show()"
      ],
      "metadata": {
        "colab": {
          "base_uri": "https://localhost:8080/",
          "height": 305
        },
        "id": "mg-gaF_z5FH8",
        "outputId": "038fa6a1-e56c-44d7-c003-5c062078cbb2"
      },
      "execution_count": null,
      "outputs": [
        {
          "output_type": "display_data",
          "data": {
            "text/plain": [
              "<Figure size 800x300 with 2 Axes>"
            ],
            "image/png": "[encoded data removed]"
          },
          "metadata": {}
        }
      ]
    },
    {
      "cell_type": "code",
      "source": [],
      "metadata": {
        "id": "tDu2TmFG81Y6"
      },
      "execution_count": null,
      "outputs": []
    }
  ]
}